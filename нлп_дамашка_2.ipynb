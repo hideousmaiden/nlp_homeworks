{
  "cells": [
    {
      "cell_type": "code",
      "execution_count": null,
      "id": "1c0653d2",
      "metadata": {
        "colab": {
          "base_uri": "https://localhost:8080/"
        },
        "id": "1c0653d2",
        "outputId": "e30c144e-a33e-4c80-8697-fcad88006ddb"
      },
      "outputs": [
        {
          "output_type": "stream",
          "name": "stderr",
          "text": [
            "[nltk_data] Downloading package punkt to /root/nltk_data...\n",
            "[nltk_data]   Package punkt is already up-to-date!\n"
          ]
        }
      ],
      "source": [
        "import csv\n",
        "from nltk.tokenize import word_tokenize, sent_tokenize\n",
        "from string import punctuation\n",
        "import nltk\n",
        "from itertools import chain\n",
        "nltk.download('punkt')\n",
        "import re\n",
        "import os"
      ]
    },
    {
      "cell_type": "code",
      "source": [
        "from google.colab import drive\n",
        "\n",
        "drive.mount('/content/gdrive')"
      ],
      "metadata": {
        "colab": {
          "base_uri": "https://localhost:8080/"
        },
        "id": "Yb_wYj9Gqrnh",
        "outputId": "3b2dcef0-e1cd-445e-fe99-d3b73336a6cd"
      },
      "id": "Yb_wYj9Gqrnh",
      "execution_count": null,
      "outputs": [
        {
          "output_type": "stream",
          "name": "stdout",
          "text": [
            "Drive already mounted at /content/gdrive; to attempt to forcibly remount, call drive.mount(\"/content/gdrive\", force_remount=True).\n"
          ]
        }
      ]
    },
    {
      "cell_type": "markdown",
      "source": [
        "Функция, которая всё чистит и токенизирует:"
      ],
      "metadata": {
        "id": "snAjE0D5qjv8"
      },
      "id": "snAjE0D5qjv8"
    },
    {
      "cell_type": "code",
      "execution_count": null,
      "id": "a05a0067",
      "metadata": {
        "id": "a05a0067"
      },
      "outputs": [],
      "source": [
        "def clean_up(pp):\n",
        "    sent = sent_tokenize(pp.lower())\n",
        "    tok = list(map(lambda x: word_tokenize(x), sent))\n",
        "    tok = list(chain(*tok))\n",
        "    depunct = list(filter(lambda x: x not in punctuation, tok))\n",
        "    depunct = list(filter(lambda x: x not in '«»–', depunct))\n",
        "    return depunct"
      ]
    },
    {
      "cell_type": "code",
      "execution_count": null,
      "id": "0e8eafc6",
      "metadata": {
        "id": "0e8eafc6"
      },
      "outputs": [],
      "source": [
        "with open('/content/gdrive/MyDrive/progs/raw_hw2.txt', 'r', encoding='utf-8') as f:\n",
        "    body = f.read()\n",
        "    words = clean_up(body)"
      ]
    },
    {
      "cell_type": "code",
      "execution_count": null,
      "id": "3122a3a0",
      "metadata": {
        "colab": {
          "base_uri": "https://localhost:8080/",
          "height": 36
        },
        "id": "3122a3a0",
        "outputId": "82f87df3-9b34-4b81-985f-af9f257abd80"
      },
      "outputs": [
        {
          "output_type": "execute_result",
          "data": {
            "text/plain": [
              "'семинаре'"
            ],
            "application/vnd.google.colaboratory.intrinsic+json": {
              "type": "string"
            }
          },
          "metadata": {},
          "execution_count": 56
        }
      ],
      "source": [
        "words[2]"
      ]
    },
    {
      "cell_type": "code",
      "execution_count": null,
      "id": "419d15e8",
      "metadata": {
        "id": "419d15e8"
      },
      "outputs": [],
      "source": [
        "with open('pretagging_hw2.csv', 'w', encoding='utf-8') as f:\n",
        "    writer = csv.writer(f, delimiter=' ')\n",
        "    for rr in words:\n",
        "        writer.writerow([rr])"
      ]
    },
    {
      "cell_type": "markdown",
      "id": "118b0f58",
      "metadata": {
        "id": "118b0f58"
      },
      "source": [
        "Потом я разметила этот текст в csv. Я использовала тагсет Universal Dependencies, потому что уже знакома с ним после ПИЛДов и для этого тагсета есть понятное объяснение всяких случаев вроде путаницы между DET и PRON. А ещё он подходит для разных языков, а я как-то верю в возможную унификацию признаков между языками\n",
        "\n",
        "https://universaldependencies.org/treebanks/ru_syntagrus/index.html"
      ]
    },
    {
      "cell_type": "markdown",
      "id": "89d6df9b",
      "metadata": {
        "id": "89d6df9b"
      },
      "source": [
        "## Тэггеры"
      ]
    },
    {
      "cell_type": "markdown",
      "source": [
        "### pymorphy\n",
        "\n",
        "- https://pymorphy2.readthedocs.io/en/stable/user/grammemes.html"
      ],
      "metadata": {
        "id": "Db2joMp9sBwe"
      },
      "id": "Db2joMp9sBwe"
    },
    {
      "cell_type": "code",
      "source": [
        "#!pip install pymorphy2"
      ],
      "metadata": {
        "id": "iqXwTWNoU3vd"
      },
      "id": "iqXwTWNoU3vd",
      "execution_count": null,
      "outputs": []
    },
    {
      "cell_type": "code",
      "execution_count": null,
      "id": "6b2ef7f6",
      "metadata": {
        "id": "6b2ef7f6"
      },
      "outputs": [],
      "source": [
        "from pymorphy2 import MorphAnalyzer"
      ]
    },
    {
      "cell_type": "code",
      "execution_count": null,
      "id": "f02e998e",
      "metadata": {
        "id": "f02e998e"
      },
      "outputs": [],
      "source": [
        "morpher = MorphAnalyzer()"
      ]
    },
    {
      "cell_type": "code",
      "execution_count": null,
      "id": "9cfd9163",
      "metadata": {
        "id": "9cfd9163"
      },
      "outputs": [],
      "source": [
        "pm_pos = list(map(lambda x: morpher.parse(x)[0].tag.POS if morpher.parse(x)[0].tag.POS!= N, words))"
      ]
    },
    {
      "cell_type": "markdown",
      "source": [
        "### *natasha*\n",
        "\n",
        "https://github.com/natasha/natasha"
      ],
      "metadata": {
        "id": "6Vm9HQj7sF6k"
      },
      "id": "6Vm9HQj7sF6k"
    },
    {
      "cell_type": "code",
      "source": [
        "#!pip install natasha"
      ],
      "metadata": {
        "id": "PzKwA5LBs_CL"
      },
      "id": "PzKwA5LBs_CL",
      "execution_count": null,
      "outputs": []
    },
    {
      "cell_type": "code",
      "execution_count": null,
      "id": "803c5688",
      "metadata": {
        "id": "803c5688"
      },
      "outputs": [],
      "source": [
        "from natasha import (MorphVocab,\n",
        "    NewsEmbedding,\n",
        "    NewsMorphTagger,\n",
        "    Segmenter,\n",
        "    Doc)\n",
        "\n",
        "segmenter = Segmenter()\n",
        "morph_vocab = MorphVocab()\n",
        "\n",
        "emb = NewsEmbedding()\n",
        "morph_tagger = NewsMorphTagger(emb)\n",
        "doc = Doc(' '.join(words))\n",
        "doc.segment(segmenter) "
      ]
    },
    {
      "cell_type": "code",
      "execution_count": null,
      "id": "b837b3a6",
      "metadata": {
        "id": "b837b3a6"
      },
      "outputs": [],
      "source": [
        "doc.tag_morph(morph_tagger)"
      ]
    },
    {
      "cell_type": "code",
      "source": [
        "natasha_pos = [doc.tokens[i].pos for i in range(len(words))]"
      ],
      "metadata": {
        "id": "tmiU4T5Euq_U"
      },
      "id": "tmiU4T5Euq_U",
      "execution_count": null,
      "outputs": []
    },
    {
      "cell_type": "code",
      "source": [
        "natasha_pos[1]"
      ],
      "metadata": {
        "colab": {
          "base_uri": "https://localhost:8080/",
          "height": 36
        },
        "id": "UVtsO0T3vBGT",
        "outputId": "fe78f4ae-db7e-4ab2-a451-bc5851fa7e2e"
      },
      "id": "UVtsO0T3vBGT",
      "execution_count": null,
      "outputs": [
        {
          "output_type": "execute_result",
          "data": {
            "text/plain": [
              "'ADJ'"
            ],
            "application/vnd.google.colaboratory.intrinsic+json": {
              "type": "string"
            }
          },
          "metadata": {},
          "execution_count": 84
        }
      ]
    },
    {
      "cell_type": "markdown",
      "source": [
        "### deeppavlov\n",
        "\n",
        "http://docs.deeppavlov.ai/en/master/features/models/morphotagger.html"
      ],
      "metadata": {
        "id": "fYpWDGcK-apR"
      },
      "id": "fYpWDGcK-apR"
    },
    {
      "cell_type": "code",
      "execution_count": null,
      "id": "14777e8d",
      "metadata": {
        "id": "14777e8d"
      },
      "outputs": [],
      "source": [
        "#!pip install deeppavlov"
      ]
    },
    {
      "cell_type": "code",
      "execution_count": null,
      "id": "c4d4b4d8",
      "metadata": {
        "id": "c4d4b4d8"
      },
      "outputs": [],
      "source": [
        "#!python -m deeppavlov install morpho_ru_syntagrus_pymorphy"
      ]
    },
    {
      "cell_type": "code",
      "execution_count": null,
      "id": "206ec6b6",
      "metadata": {
        "id": "206ec6b6"
      },
      "outputs": [],
      "source": [
        "from deeppavlov import build_model, configs\n",
        "\n",
        "model = build_model(configs.morpho_tagger.UD2_0.morpho_ru_syntagrus_pymorphy, download=True)"
      ]
    },
    {
      "cell_type": "code",
      "execution_count": null,
      "id": "c87f60f5",
      "metadata": {
        "colab": {
          "base_uri": "https://localhost:8080/"
        },
        "id": "c87f60f5",
        "outputId": "a218b529-dc3b-4c30-cfdd-2df0b85fbe2e"
      },
      "outputs": [
        {
          "output_type": "execute_result",
          "data": {
            "text/plain": [
              "['1\\tна\\tADP\\t_\\n',\n",
              " '1\\tпоследнем\\tADJ\\tCase=Loc|Degree=Pos|Gender=Masc|Number=Sing\\n',\n",
              " '1\\tсеминаре\\tNOUN\\tAnimacy=Inan|Case=Loc|Gender=Masc|Number=Sing\\n']"
            ]
          },
          "metadata": {},
          "execution_count": 85
        }
      ],
      "source": [
        "parced = model(words)\n",
        "parced[:3]"
      ]
    },
    {
      "cell_type": "code",
      "execution_count": null,
      "id": "592a046b",
      "metadata": {
        "id": "592a046b"
      },
      "outputs": [],
      "source": [
        "pavlov_pos = list(map(lambda x: re.split('\\t',x)[2], parced))"
      ]
    },
    {
      "cell_type": "markdown",
      "source": [
        "И наташа, и павлов работают с тагсетом Universal Dependencies, а вот у pymorphy другие тэги:"
      ],
      "metadata": {
        "id": "6JfOspFM-4s5"
      },
      "id": "6JfOspFM-4s5"
    },
    {
      "cell_type": "code",
      "execution_count": null,
      "id": "2af1d879",
      "metadata": {
        "colab": {
          "base_uri": "https://localhost:8080/"
        },
        "id": "2af1d879",
        "outputId": "f5ad3401-78bf-4d99-db85-a4358c0997e0"
      },
      "outputs": [
        {
          "output_type": "execute_result",
          "data": {
            "text/plain": [
              "{'ADJ',\n",
              " 'ADP',\n",
              " 'ADV',\n",
              " 'AUX',\n",
              " 'CCONJ',\n",
              " 'DET',\n",
              " 'NOUN',\n",
              " 'NUM',\n",
              " 'PART',\n",
              " 'PRON',\n",
              " 'SCONJ',\n",
              " 'VERB',\n",
              " 'X'}"
            ]
          },
          "metadata": {},
          "execution_count": 61
        }
      ],
      "source": [
        "set(pavlov_pos)"
      ]
    },
    {
      "cell_type": "code",
      "execution_count": null,
      "id": "a692761b",
      "metadata": {
        "colab": {
          "base_uri": "https://localhost:8080/"
        },
        "id": "a692761b",
        "outputId": "ccdf46fc-230a-4211-f983-59f5ec8391f8"
      },
      "outputs": [
        {
          "output_type": "execute_result",
          "data": {
            "text/plain": [
              "{'ADJ',\n",
              " 'ADP',\n",
              " 'ADV',\n",
              " 'AUX',\n",
              " 'CCONJ',\n",
              " 'DET',\n",
              " 'NOUN',\n",
              " 'NUM',\n",
              " 'PART',\n",
              " 'PRON',\n",
              " 'PUNCT',\n",
              " 'SCONJ',\n",
              " 'SYM',\n",
              " 'VERB',\n",
              " 'X'}"
            ]
          },
          "metadata": {},
          "execution_count": 62
        }
      ],
      "source": [
        "set(natasha_pos)"
      ]
    },
    {
      "cell_type": "code",
      "source": [
        "set(pm_pos)"
      ],
      "metadata": {
        "colab": {
          "base_uri": "https://localhost:8080/"
        },
        "id": "aKtUy5qL-T98",
        "outputId": "8a820524-a0d4-4487-9b06-89f04de778f2"
      },
      "id": "aKtUy5qL-T98",
      "execution_count": null,
      "outputs": [
        {
          "output_type": "execute_result",
          "data": {
            "text/plain": [
              "{'ADJF',\n",
              " 'ADJS',\n",
              " 'ADVB',\n",
              " 'COMP',\n",
              " 'CONJ',\n",
              " 'INFN',\n",
              " 'NOUN',\n",
              " 'NPRO',\n",
              " 'NUMR',\n",
              " None,\n",
              " 'PRCL',\n",
              " 'PRED',\n",
              " 'PREP',\n",
              " 'PRTF',\n",
              " 'VERB'}"
            ]
          },
          "metadata": {},
          "execution_count": 63
        }
      ]
    },
    {
      "cell_type": "code",
      "source": [
        "translator = {'ADJF':['ADJ','DET'], 'ADJS':'ADJ', 'ADVB':'ADV','COMP':['ADJ','ADV'],\n",
        "              'CONJ':['SCONJ','CCONJ'],'INFN':'VERB','NPRO':'PRON','NUMR':'NUM',\n",
        "              'PRCL':'PART','PRED':'ADV','PREP':'ADP','PRTF':['VERB','ADJ']}"
      ],
      "metadata": {
        "id": "REmyOvuc-goV"
      },
      "id": "REmyOvuc-goV",
      "execution_count": null,
      "outputs": []
    },
    {
      "cell_type": "code",
      "source": [
        "pm_pos_ud = list(map(lambda x: translator[x] if x in translator.keys() else x, pm_pos))"
      ],
      "metadata": {
        "id": "ACUGvYUDDApY"
      },
      "id": "ACUGvYUDDApY",
      "execution_count": null,
      "outputs": []
    },
    {
      "cell_type": "code",
      "source": [
        "with open('/content/gdrive/MyDrive/progs/tagging_hw2.csv', 'r', encoding='utf-8') as g:\n",
        "  reader = csv.reader(g)\n",
        "  tags = [i for i in reader if len(i)>0]\n",
        "  pos = [k[1] for k in tags if len(k)>1]"
      ],
      "metadata": {
        "id": "mtMuvE5JBEAU"
      },
      "id": "mtMuvE5JBEAU",
      "execution_count": null,
      "outputs": []
    },
    {
      "cell_type": "code",
      "source": [
        "len(pm_pos_ud) == len(pm_pos) == len(natasha_pos) == len(pavlov_pos)==len(pos)"
      ],
      "metadata": {
        "colab": {
          "base_uri": "https://localhost:8080/"
        },
        "id": "cfVTm3rRBBbQ",
        "outputId": "0e2db49e-f280-457c-f481-a47ab64b37a6"
      },
      "id": "cfVTm3rRBBbQ",
      "execution_count": null,
      "outputs": [
        {
          "output_type": "execute_result",
          "data": {
            "text/plain": [
              "True"
            ]
          },
          "metadata": {},
          "execution_count": 96
        }
      ]
    },
    {
      "cell_type": "code",
      "source": [
        "len(tags)"
      ],
      "metadata": {
        "colab": {
          "base_uri": "https://localhost:8080/"
        },
        "id": "Z1xSfzOZeOq6",
        "outputId": "a8e31057-e20a-4a1d-9c53-3da35e1ba527"
      },
      "id": "Z1xSfzOZeOq6",
      "execution_count": null,
      "outputs": [
        {
          "output_type": "execute_result",
          "data": {
            "text/plain": [
              "328"
            ]
          },
          "metadata": {},
          "execution_count": 97
        }
      ]
    },
    {
      "cell_type": "code",
      "source": [
        "def accuracy(test):\n",
        "    trues = sum([True for k in zip(pos,test) if k[0] in k[1]])\n",
        "    return trues/len(pos)"
      ],
      "metadata": {
        "id": "AvszXcayfxSo"
      },
      "id": "AvszXcayfxSo",
      "execution_count": null,
      "outputs": []
    },
    {
      "cell_type": "code",
      "source": [
        "accuracy(pavlov_pos)"
      ],
      "metadata": {
        "colab": {
          "base_uri": "https://localhost:8080/"
        },
        "id": "scmZOVl1hyEf",
        "outputId": "5d71198f-2793-4d9a-c7dd-04766c2c955c"
      },
      "id": "scmZOVl1hyEf",
      "execution_count": null,
      "outputs": [
        {
          "output_type": "execute_result",
          "data": {
            "text/plain": [
              "0.926829268292683"
            ]
          },
          "metadata": {},
          "execution_count": 113
        }
      ]
    },
    {
      "cell_type": "code",
      "source": [
        "accuracy(natasha_pos)"
      ],
      "metadata": {
        "id": "aKq6zHyOgDfQ",
        "colab": {
          "base_uri": "https://localhost:8080/"
        },
        "outputId": "ea41f917-8b9e-4707-ef3b-024c72cfbca6"
      },
      "id": "aKq6zHyOgDfQ",
      "execution_count": null,
      "outputs": [
        {
          "output_type": "execute_result",
          "data": {
            "text/plain": [
              "0.7012195121951219"
            ]
          },
          "metadata": {},
          "execution_count": 108
        }
      ]
    },
    {
      "cell_type": "code",
      "source": [
        "accuracy(pm_pos_ud)"
      ],
      "metadata": {
        "colab": {
          "base_uri": "https://localhost:8080/"
        },
        "id": "B7O1HY2Chr-N",
        "outputId": "1b95e913-c411-4d78-8745-8d9c7400214f"
      },
      "id": "B7O1HY2Chr-N",
      "execution_count": null,
      "outputs": [
        {
          "output_type": "execute_result",
          "data": {
            "text/plain": [
              "0.899390243902439"
            ]
          },
          "metadata": {},
          "execution_count": 119
        }
      ]
    },
    {
      "cell_type": "markdown",
      "source": [
        "Лучший тэггер - Павлов.\n",
        "\n",
        "\n",
        "**n-граммы:**\n",
        "- не + [token+] VERB\n",
        "(чтобы классификатор был чувствителен к отрицанию - понравилось/не_понравилось)\n",
        "\n",
        "\n",
        "- не + [token+] + ADJ\n",
        "(чтобы классификатор был чувствителен к отрицанию - лучший/не\\_самый_лучший)\n",
        "\n",
        "- ADV+ADJ\n",
        "(мне кажется, мнго оценочных выражений устроены по такой модели - выше среднего, хуже ожидаемого и тд)"
      ],
      "metadata": {
        "id": "UAfZx5Vzj0PZ"
      },
      "id": "UAfZx5Vzj0PZ"
    },
    {
      "cell_type": "code",
      "source": [
        "pavlov_pairs = list(map(lambda x: re.split('\\t',x)[1:3], parced))"
      ],
      "metadata": {
        "id": "419CEmzjj2eF"
      },
      "id": "419CEmzjj2eF",
      "execution_count": null,
      "outputs": []
    },
    {
      "cell_type": "code",
      "source": [
        "pavlov_pairs[19]"
      ],
      "metadata": {
        "colab": {
          "base_uri": "https://localhost:8080/"
        },
        "id": "DKhO1UBAlktH",
        "outputId": "662a3ea1-aaa9-4084-ec2f-94a7d1b502ea"
      },
      "id": "DKhO1UBAlktH",
      "execution_count": null,
      "outputs": [
        {
          "output_type": "execute_result",
          "data": {
            "text/plain": [
              "['этой', 'DET']"
            ]
          },
          "metadata": {},
          "execution_count": 126
        }
      ]
    },
    {
      "cell_type": "code",
      "source": [
        "def chunker(text):\n",
        "    #text - список пар (word,pos_tag)\n",
        "    n_grams=list()\n",
        "    for k in range(len(text)-2):\n",
        "        if text[k][0]=='не' and text[k+2][1] in ['ADJ','VERB']:\n",
        "            n_grams.append(text[k:k+3])\n",
        "    for k in range(len(text)-1):\n",
        "        if text[k][0]=='не' and text[k+1][1] in ['ADJ','VERB']:\n",
        "          n_grams.append(text[k:k+2])\n",
        "        elif text[k][1]=='ADV' and text[k+1][1]=='ADJ':\n",
        "          n_grams.append(text[k:k+2])\n",
        "    return n_grams"
      ],
      "metadata": {
        "id": "28OkEhQKlmyS"
      },
      "id": "28OkEhQKlmyS",
      "execution_count": 140,
      "outputs": []
    },
    {
      "cell_type": "markdown",
      "source": [
        "Проверяем:"
      ],
      "metadata": {
        "id": "kcafXlR8qUuL"
      },
      "id": "kcafXlR8qUuL"
    },
    {
      "cell_type": "code",
      "source": [
        "piece = 'Фильм не очень хороший, тотально отвратительный. Я не заценил'"
      ],
      "metadata": {
        "id": "MZvwV50Qo86M"
      },
      "id": "MZvwV50Qo86M",
      "execution_count": 143,
      "outputs": []
    },
    {
      "cell_type": "code",
      "source": [
        "par = model(clean_up(piece))\n",
        "pavlov_prs = list(map(lambda x: re.split('\\t',x)[1:3], par))\n",
        "chunker(pavlov_prs)"
      ],
      "metadata": {
        "colab": {
          "base_uri": "https://localhost:8080/"
        },
        "id": "1lZ9sZEdn9KM",
        "outputId": "34d32a65-2aab-47a1-974d-d9d289407b06"
      },
      "id": "1lZ9sZEdn9KM",
      "execution_count": 144,
      "outputs": [
        {
          "output_type": "execute_result",
          "data": {
            "text/plain": [
              "[[['не', 'PART'], ['очень', 'ADV'], ['хороший', 'ADJ']],\n",
              " [['очень', 'ADV'], ['хороший', 'ADJ']],\n",
              " [['тотально', 'ADV'], ['отвратительный', 'ADJ']],\n",
              " [['не', 'PART'], ['заценил', 'VERB']]]"
            ]
          },
          "metadata": {},
          "execution_count": 144
        }
      ]
    },
    {
      "cell_type": "markdown",
      "source": [
        "А в прошлую домашку я это не вставлю, потому что она была на английских текстах, а никто не предупредил, что нужны русские"
      ],
      "metadata": {
        "id": "nYDQ50Q5qWSr"
      },
      "id": "nYDQ50Q5qWSr"
    }
  ],
  "metadata": {
    "kernelspec": {
      "display_name": "Python 3 (ipykernel)",
      "language": "python",
      "name": "python3"
    },
    "language_info": {
      "codemirror_mode": {
        "name": "ipython",
        "version": 3
      },
      "file_extension": ".py",
      "mimetype": "text/x-python",
      "name": "python",
      "nbconvert_exporter": "python",
      "pygments_lexer": "ipython3",
      "version": "3.9.7"
    },
    "colab": {
      "provenance": [],
      "collapsed_sections": []
    }
  },
  "nbformat": 4,
  "nbformat_minor": 5
}